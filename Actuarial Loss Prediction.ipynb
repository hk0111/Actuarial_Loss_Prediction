{
 "cells": [
  {
   "cell_type": "markdown",
   "id": "ed67e441",
   "metadata": {},
   "source": [
    "<h1 align='center'>Actuarial Loss Prediction </h1>"
   ]
  },
  {
   "cell_type": "code",
   "execution_count": 1,
   "id": "d3485bb8",
   "metadata": {},
   "outputs": [],
   "source": [
    "import numpy as np\n",
    "import pandas as pd\n",
    "import matplotlib.pyplot as plt\n",
    "import seaborn as sns\n",
    "import tensorflow as tf\n",
    "from sklearn.metrics import mean_squared_error\n",
    "from sklearn.model_selection import train_test_split, GridSearchCV\n",
    "from sklearn.preprocessing import StandardScaler, PolynomialFeatures\n",
    "from sklearn.ensemble import RandomForestRegressor\n",
    "from sklearn.linear_model import LinearRegression\n",
    "from sklearn.impute import SimpleImputer\n",
    "from sklearn.pipeline import Pipeline\n",
    "from sklearn.compose import ColumnTransformer\n",
    "from sklearn.feature_extraction.text import CountVectorizer\n",
    "from sklearn.decomposition import PCA\n",
    "from tensorflow.keras import models, layers\n",
    "from tensorflow.keras.wrappers.scikit_learn import KerasRegressor\n",
    "from nltk.stem import WordNetLemmatizer\n",
    "from nltk.tokenize import word_tokenize\n",
    "from nltk.corpus import stopwords\n",
    "\n",
    "sns.set()\n",
    "%matplotlib inline"
   ]
  },
  {
   "cell_type": "markdown",
   "id": "0156f11f",
   "metadata": {},
   "source": [
    "## Business Understanding"
   ]
  },
  {
   "cell_type": "markdown",
   "id": "f7795a21",
   "metadata": {},
   "source": [
    "Actuarial science is a discipline that assesses current financial risks of future contingent events (especially insured events) using mathematical and statistical methods. It covers methodologies and techniques for pricing, determining liabilities, etc., to ensure the company can meet its liabilities as they fall due.\n",
    "\n",
    "In some insurance products such as workers compensation (a form of insurance that pays workers who are injured or become disabled as a result of their job) where the payments can continue for some years, predicting the ultimate incurred claim cost (total claims payments by the insurance company to policyholders) is significant to determine the liabilities and prepare the cash to pay for benefits. It can be done by using traditional actuarial methods such as grouping policyholders based on similarity and use the expected value of the group for prediction. However, this method requires much physical labor to determine the groupings, trade-offs between the number of groups and accuracy, etc.\n",
    "\n",
    "Machine learning (ML) algorithms can be used to predict the ultimate incurred claim cost for every claim based on worker-related information associated with the claims. In this article, we will try some regression models to predict the ultimate incurred claim cost and compare it to the actuarial methods by using the [dataset](https://www.kaggle.com/c/actuarial-loss-estimation/data) provided by The Actuaries Institute of Australia, Institute and Faculty of Actuaries, and the Singapore Actuarial Society. Limited data availability may cause actuarial methods to perform better. Nevertheless, ML algorithms can speed up this prediction process and incorporate other features such as claim description using NLP."
   ]
  },
  {
   "cell_type": "markdown",
   "id": "4c91ac53",
   "metadata": {},
   "source": [
    "## Data Understanding"
   ]
  },
  {
   "cell_type": "code",
   "execution_count": 2,
   "id": "b25cfb23",
   "metadata": {},
   "outputs": [
    {
     "data": {
      "text/html": [
       "<div>\n",
       "<style scoped>\n",
       "    .dataframe tbody tr th:only-of-type {\n",
       "        vertical-align: middle;\n",
       "    }\n",
       "\n",
       "    .dataframe tbody tr th {\n",
       "        vertical-align: top;\n",
       "    }\n",
       "\n",
       "    .dataframe thead th {\n",
       "        text-align: right;\n",
       "    }\n",
       "</style>\n",
       "<table border=\"1\" class=\"dataframe\">\n",
       "  <thead>\n",
       "    <tr style=\"text-align: right;\">\n",
       "      <th></th>\n",
       "      <th>ClaimNumber</th>\n",
       "      <th>DateTimeOfAccident</th>\n",
       "      <th>DateReported</th>\n",
       "      <th>Age</th>\n",
       "      <th>Gender</th>\n",
       "      <th>MaritalStatus</th>\n",
       "      <th>DependentChildren</th>\n",
       "      <th>DependentsOther</th>\n",
       "      <th>WeeklyWages</th>\n",
       "      <th>PartTimeFullTime</th>\n",
       "      <th>HoursWorkedPerWeek</th>\n",
       "      <th>DaysWorkedPerWeek</th>\n",
       "      <th>ClaimDescription</th>\n",
       "      <th>InitialIncurredCalimsCost</th>\n",
       "      <th>UltimateIncurredClaimCost</th>\n",
       "    </tr>\n",
       "  </thead>\n",
       "  <tbody>\n",
       "    <tr>\n",
       "      <th>0</th>\n",
       "      <td>WC8285054</td>\n",
       "      <td>2002-04-09T07:00:00Z</td>\n",
       "      <td>2002-07-05T00:00:00Z</td>\n",
       "      <td>48</td>\n",
       "      <td>M</td>\n",
       "      <td>M</td>\n",
       "      <td>0</td>\n",
       "      <td>0</td>\n",
       "      <td>500.00</td>\n",
       "      <td>F</td>\n",
       "      <td>38.0</td>\n",
       "      <td>5</td>\n",
       "      <td>LIFTING TYRE INJURY TO RIGHT ARM AND WRIST INJURY</td>\n",
       "      <td>1500</td>\n",
       "      <td>4748.203388</td>\n",
       "    </tr>\n",
       "    <tr>\n",
       "      <th>1</th>\n",
       "      <td>WC6982224</td>\n",
       "      <td>1999-01-07T11:00:00Z</td>\n",
       "      <td>1999-01-20T00:00:00Z</td>\n",
       "      <td>43</td>\n",
       "      <td>F</td>\n",
       "      <td>M</td>\n",
       "      <td>0</td>\n",
       "      <td>0</td>\n",
       "      <td>509.34</td>\n",
       "      <td>F</td>\n",
       "      <td>37.5</td>\n",
       "      <td>5</td>\n",
       "      <td>STEPPED AROUND CRATES AND TRUCK TRAY FRACTURE ...</td>\n",
       "      <td>5500</td>\n",
       "      <td>6326.285819</td>\n",
       "    </tr>\n",
       "    <tr>\n",
       "      <th>2</th>\n",
       "      <td>WC5481426</td>\n",
       "      <td>1996-03-25T00:00:00Z</td>\n",
       "      <td>1996-04-14T00:00:00Z</td>\n",
       "      <td>30</td>\n",
       "      <td>M</td>\n",
       "      <td>U</td>\n",
       "      <td>0</td>\n",
       "      <td>0</td>\n",
       "      <td>709.10</td>\n",
       "      <td>F</td>\n",
       "      <td>38.0</td>\n",
       "      <td>5</td>\n",
       "      <td>CUT ON SHARP EDGE CUT LEFT THUMB</td>\n",
       "      <td>1700</td>\n",
       "      <td>2293.949087</td>\n",
       "    </tr>\n",
       "    <tr>\n",
       "      <th>3</th>\n",
       "      <td>WC9775968</td>\n",
       "      <td>2005-06-22T13:00:00Z</td>\n",
       "      <td>2005-07-22T00:00:00Z</td>\n",
       "      <td>41</td>\n",
       "      <td>M</td>\n",
       "      <td>S</td>\n",
       "      <td>0</td>\n",
       "      <td>0</td>\n",
       "      <td>555.46</td>\n",
       "      <td>F</td>\n",
       "      <td>38.0</td>\n",
       "      <td>5</td>\n",
       "      <td>DIGGING LOWER BACK LOWER BACK STRAIN</td>\n",
       "      <td>15000</td>\n",
       "      <td>17786.487170</td>\n",
       "    </tr>\n",
       "    <tr>\n",
       "      <th>4</th>\n",
       "      <td>WC2634037</td>\n",
       "      <td>1990-08-29T08:00:00Z</td>\n",
       "      <td>1990-09-27T00:00:00Z</td>\n",
       "      <td>36</td>\n",
       "      <td>M</td>\n",
       "      <td>M</td>\n",
       "      <td>0</td>\n",
       "      <td>0</td>\n",
       "      <td>377.10</td>\n",
       "      <td>F</td>\n",
       "      <td>38.0</td>\n",
       "      <td>5</td>\n",
       "      <td>REACHING ABOVE SHOULDER LEVEL ACUTE MUSCLE STR...</td>\n",
       "      <td>2800</td>\n",
       "      <td>4014.002925</td>\n",
       "    </tr>\n",
       "  </tbody>\n",
       "</table>\n",
       "</div>"
      ],
      "text/plain": [
       "  ClaimNumber    DateTimeOfAccident          DateReported  Age Gender  \\\n",
       "0   WC8285054  2002-04-09T07:00:00Z  2002-07-05T00:00:00Z   48      M   \n",
       "1   WC6982224  1999-01-07T11:00:00Z  1999-01-20T00:00:00Z   43      F   \n",
       "2   WC5481426  1996-03-25T00:00:00Z  1996-04-14T00:00:00Z   30      M   \n",
       "3   WC9775968  2005-06-22T13:00:00Z  2005-07-22T00:00:00Z   41      M   \n",
       "4   WC2634037  1990-08-29T08:00:00Z  1990-09-27T00:00:00Z   36      M   \n",
       "\n",
       "  MaritalStatus  DependentChildren  DependentsOther  WeeklyWages  \\\n",
       "0             M                  0                0       500.00   \n",
       "1             M                  0                0       509.34   \n",
       "2             U                  0                0       709.10   \n",
       "3             S                  0                0       555.46   \n",
       "4             M                  0                0       377.10   \n",
       "\n",
       "  PartTimeFullTime  HoursWorkedPerWeek  DaysWorkedPerWeek  \\\n",
       "0                F                38.0                  5   \n",
       "1                F                37.5                  5   \n",
       "2                F                38.0                  5   \n",
       "3                F                38.0                  5   \n",
       "4                F                38.0                  5   \n",
       "\n",
       "                                    ClaimDescription  \\\n",
       "0  LIFTING TYRE INJURY TO RIGHT ARM AND WRIST INJURY   \n",
       "1  STEPPED AROUND CRATES AND TRUCK TRAY FRACTURE ...   \n",
       "2                   CUT ON SHARP EDGE CUT LEFT THUMB   \n",
       "3               DIGGING LOWER BACK LOWER BACK STRAIN   \n",
       "4  REACHING ABOVE SHOULDER LEVEL ACUTE MUSCLE STR...   \n",
       "\n",
       "   InitialIncurredCalimsCost  UltimateIncurredClaimCost  \n",
       "0                       1500                4748.203388  \n",
       "1                       5500                6326.285819  \n",
       "2                       1700                2293.949087  \n",
       "3                      15000               17786.487170  \n",
       "4                       2800                4014.002925  "
      ]
     },
     "execution_count": 2,
     "metadata": {},
     "output_type": "execute_result"
    }
   ],
   "source": [
    "df = pd.read_csv('data/train.csv')\n",
    "df_copy = df.copy()\n",
    "df.head()"
   ]
  },
  {
   "cell_type": "code",
   "execution_count": 3,
   "id": "b09c3188",
   "metadata": {},
   "outputs": [
    {
     "data": {
      "text/html": [
       "<div>\n",
       "<style scoped>\n",
       "    .dataframe tbody tr th:only-of-type {\n",
       "        vertical-align: middle;\n",
       "    }\n",
       "\n",
       "    .dataframe tbody tr th {\n",
       "        vertical-align: top;\n",
       "    }\n",
       "\n",
       "    .dataframe thead th {\n",
       "        text-align: right;\n",
       "    }\n",
       "</style>\n",
       "<table border=\"1\" class=\"dataframe\">\n",
       "  <thead>\n",
       "    <tr style=\"text-align: right;\">\n",
       "      <th></th>\n",
       "      <th>ClaimNumber</th>\n",
       "      <th>DateTimeOfAccident</th>\n",
       "      <th>DateReported</th>\n",
       "      <th>Age</th>\n",
       "      <th>Gender</th>\n",
       "      <th>MaritalStatus</th>\n",
       "      <th>DependentChildren</th>\n",
       "      <th>DependentsOther</th>\n",
       "      <th>WeeklyWages</th>\n",
       "      <th>PartTimeFullTime</th>\n",
       "      <th>HoursWorkedPerWeek</th>\n",
       "      <th>DaysWorkedPerWeek</th>\n",
       "      <th>ClaimDescription</th>\n",
       "      <th>InitialIncurredClaimCost</th>\n",
       "      <th>UltimateIncurredClaimCost</th>\n",
       "    </tr>\n",
       "  </thead>\n",
       "  <tbody>\n",
       "    <tr>\n",
       "      <th>0</th>\n",
       "      <td>WC8285054</td>\n",
       "      <td>2002-04-09T07:00:00Z</td>\n",
       "      <td>2002-07-05T00:00:00Z</td>\n",
       "      <td>48</td>\n",
       "      <td>M</td>\n",
       "      <td>M</td>\n",
       "      <td>0</td>\n",
       "      <td>0</td>\n",
       "      <td>500.00</td>\n",
       "      <td>F</td>\n",
       "      <td>38.0</td>\n",
       "      <td>5</td>\n",
       "      <td>LIFTING TYRE INJURY TO RIGHT ARM AND WRIST INJURY</td>\n",
       "      <td>1500</td>\n",
       "      <td>4748.203388</td>\n",
       "    </tr>\n",
       "    <tr>\n",
       "      <th>1</th>\n",
       "      <td>WC6982224</td>\n",
       "      <td>1999-01-07T11:00:00Z</td>\n",
       "      <td>1999-01-20T00:00:00Z</td>\n",
       "      <td>43</td>\n",
       "      <td>F</td>\n",
       "      <td>M</td>\n",
       "      <td>0</td>\n",
       "      <td>0</td>\n",
       "      <td>509.34</td>\n",
       "      <td>F</td>\n",
       "      <td>37.5</td>\n",
       "      <td>5</td>\n",
       "      <td>STEPPED AROUND CRATES AND TRUCK TRAY FRACTURE ...</td>\n",
       "      <td>5500</td>\n",
       "      <td>6326.285819</td>\n",
       "    </tr>\n",
       "    <tr>\n",
       "      <th>2</th>\n",
       "      <td>WC5481426</td>\n",
       "      <td>1996-03-25T00:00:00Z</td>\n",
       "      <td>1996-04-14T00:00:00Z</td>\n",
       "      <td>30</td>\n",
       "      <td>M</td>\n",
       "      <td>U</td>\n",
       "      <td>0</td>\n",
       "      <td>0</td>\n",
       "      <td>709.10</td>\n",
       "      <td>F</td>\n",
       "      <td>38.0</td>\n",
       "      <td>5</td>\n",
       "      <td>CUT ON SHARP EDGE CUT LEFT THUMB</td>\n",
       "      <td>1700</td>\n",
       "      <td>2293.949087</td>\n",
       "    </tr>\n",
       "    <tr>\n",
       "      <th>3</th>\n",
       "      <td>WC9775968</td>\n",
       "      <td>2005-06-22T13:00:00Z</td>\n",
       "      <td>2005-07-22T00:00:00Z</td>\n",
       "      <td>41</td>\n",
       "      <td>M</td>\n",
       "      <td>S</td>\n",
       "      <td>0</td>\n",
       "      <td>0</td>\n",
       "      <td>555.46</td>\n",
       "      <td>F</td>\n",
       "      <td>38.0</td>\n",
       "      <td>5</td>\n",
       "      <td>DIGGING LOWER BACK LOWER BACK STRAIN</td>\n",
       "      <td>15000</td>\n",
       "      <td>17786.487170</td>\n",
       "    </tr>\n",
       "    <tr>\n",
       "      <th>4</th>\n",
       "      <td>WC2634037</td>\n",
       "      <td>1990-08-29T08:00:00Z</td>\n",
       "      <td>1990-09-27T00:00:00Z</td>\n",
       "      <td>36</td>\n",
       "      <td>M</td>\n",
       "      <td>M</td>\n",
       "      <td>0</td>\n",
       "      <td>0</td>\n",
       "      <td>377.10</td>\n",
       "      <td>F</td>\n",
       "      <td>38.0</td>\n",
       "      <td>5</td>\n",
       "      <td>REACHING ABOVE SHOULDER LEVEL ACUTE MUSCLE STR...</td>\n",
       "      <td>2800</td>\n",
       "      <td>4014.002925</td>\n",
       "    </tr>\n",
       "  </tbody>\n",
       "</table>\n",
       "</div>"
      ],
      "text/plain": [
       "  ClaimNumber    DateTimeOfAccident          DateReported  Age Gender  \\\n",
       "0   WC8285054  2002-04-09T07:00:00Z  2002-07-05T00:00:00Z   48      M   \n",
       "1   WC6982224  1999-01-07T11:00:00Z  1999-01-20T00:00:00Z   43      F   \n",
       "2   WC5481426  1996-03-25T00:00:00Z  1996-04-14T00:00:00Z   30      M   \n",
       "3   WC9775968  2005-06-22T13:00:00Z  2005-07-22T00:00:00Z   41      M   \n",
       "4   WC2634037  1990-08-29T08:00:00Z  1990-09-27T00:00:00Z   36      M   \n",
       "\n",
       "  MaritalStatus  DependentChildren  DependentsOther  WeeklyWages  \\\n",
       "0             M                  0                0       500.00   \n",
       "1             M                  0                0       509.34   \n",
       "2             U                  0                0       709.10   \n",
       "3             S                  0                0       555.46   \n",
       "4             M                  0                0       377.10   \n",
       "\n",
       "  PartTimeFullTime  HoursWorkedPerWeek  DaysWorkedPerWeek  \\\n",
       "0                F                38.0                  5   \n",
       "1                F                37.5                  5   \n",
       "2                F                38.0                  5   \n",
       "3                F                38.0                  5   \n",
       "4                F                38.0                  5   \n",
       "\n",
       "                                    ClaimDescription  \\\n",
       "0  LIFTING TYRE INJURY TO RIGHT ARM AND WRIST INJURY   \n",
       "1  STEPPED AROUND CRATES AND TRUCK TRAY FRACTURE ...   \n",
       "2                   CUT ON SHARP EDGE CUT LEFT THUMB   \n",
       "3               DIGGING LOWER BACK LOWER BACK STRAIN   \n",
       "4  REACHING ABOVE SHOULDER LEVEL ACUTE MUSCLE STR...   \n",
       "\n",
       "   InitialIncurredClaimCost  UltimateIncurredClaimCost  \n",
       "0                      1500                4748.203388  \n",
       "1                      5500                6326.285819  \n",
       "2                      1700                2293.949087  \n",
       "3                     15000               17786.487170  \n",
       "4                      2800                4014.002925  "
      ]
     },
     "execution_count": 3,
     "metadata": {},
     "output_type": "execute_result"
    }
   ],
   "source": [
    "# Fix incorrect column name\n",
    "df.rename(columns={'InitialIncurredCalimsCost': 'InitialIncurredClaimCost'}, inplace=True)\n",
    "df.head()"
   ]
  },
  {
   "cell_type": "code",
   "execution_count": 4,
   "id": "f2b038df",
   "metadata": {},
   "outputs": [
    {
     "data": {
      "text/plain": [
       "ClaimNumber                   0\n",
       "DateTimeOfAccident            0\n",
       "DateReported                  0\n",
       "Age                           0\n",
       "Gender                        0\n",
       "MaritalStatus                29\n",
       "DependentChildren             0\n",
       "DependentsOther               0\n",
       "WeeklyWages                   0\n",
       "PartTimeFullTime              0\n",
       "HoursWorkedPerWeek            0\n",
       "DaysWorkedPerWeek             0\n",
       "ClaimDescription              0\n",
       "InitialIncurredClaimCost      0\n",
       "UltimateIncurredClaimCost     0\n",
       "dtype: int64"
      ]
     },
     "execution_count": 4,
     "metadata": {},
     "output_type": "execute_result"
    }
   ],
   "source": [
    "df.isna().sum()"
   ]
  },
  {
   "cell_type": "markdown",
   "id": "dfa20091",
   "metadata": {},
   "source": [
    "Only the `MaritalStatus` column that has missing values. Because there are separate categories for unknown marital status, we will change this missing values to U (Unknown)."
   ]
  },
  {
   "cell_type": "code",
   "execution_count": 5,
   "id": "cf40b72a",
   "metadata": {},
   "outputs": [
    {
     "data": {
      "text/plain": [
       "ClaimNumber                   object\n",
       "DateTimeOfAccident            object\n",
       "DateReported                  object\n",
       "Age                            int64\n",
       "Gender                        object\n",
       "MaritalStatus                 object\n",
       "DependentChildren              int64\n",
       "DependentsOther                int64\n",
       "WeeklyWages                  float64\n",
       "PartTimeFullTime              object\n",
       "HoursWorkedPerWeek           float64\n",
       "DaysWorkedPerWeek              int64\n",
       "ClaimDescription              object\n",
       "InitialIncurredClaimCost       int64\n",
       "UltimateIncurredClaimCost    float64\n",
       "dtype: object"
      ]
     },
     "execution_count": 5,
     "metadata": {},
     "output_type": "execute_result"
    }
   ],
   "source": [
    "df.dtypes"
   ]
  },
  {
   "cell_type": "code",
   "execution_count": 6,
   "id": "26efdac8",
   "metadata": {},
   "outputs": [
    {
     "data": {
      "text/html": [
       "<div>\n",
       "<style scoped>\n",
       "    .dataframe tbody tr th:only-of-type {\n",
       "        vertical-align: middle;\n",
       "    }\n",
       "\n",
       "    .dataframe tbody tr th {\n",
       "        vertical-align: top;\n",
       "    }\n",
       "\n",
       "    .dataframe thead th {\n",
       "        text-align: right;\n",
       "    }\n",
       "</style>\n",
       "<table border=\"1\" class=\"dataframe\">\n",
       "  <thead>\n",
       "    <tr style=\"text-align: right;\">\n",
       "      <th></th>\n",
       "      <th>Age</th>\n",
       "      <th>DependentChildren</th>\n",
       "      <th>DependentsOther</th>\n",
       "      <th>WeeklyWages</th>\n",
       "      <th>HoursWorkedPerWeek</th>\n",
       "      <th>DaysWorkedPerWeek</th>\n",
       "      <th>InitialIncurredClaimCost</th>\n",
       "      <th>UltimateIncurredClaimCost</th>\n",
       "    </tr>\n",
       "  </thead>\n",
       "  <tbody>\n",
       "    <tr>\n",
       "      <th>count</th>\n",
       "      <td>54000.000000</td>\n",
       "      <td>54000.000000</td>\n",
       "      <td>54000.000000</td>\n",
       "      <td>54000.000000</td>\n",
       "      <td>54000.000000</td>\n",
       "      <td>54000.000000</td>\n",
       "      <td>5.400000e+04</td>\n",
       "      <td>5.400000e+04</td>\n",
       "    </tr>\n",
       "    <tr>\n",
       "      <th>mean</th>\n",
       "      <td>33.842370</td>\n",
       "      <td>0.119185</td>\n",
       "      <td>0.009944</td>\n",
       "      <td>416.364807</td>\n",
       "      <td>37.735084</td>\n",
       "      <td>4.905759</td>\n",
       "      <td>7.841146e+03</td>\n",
       "      <td>1.100337e+04</td>\n",
       "    </tr>\n",
       "    <tr>\n",
       "      <th>std</th>\n",
       "      <td>12.122165</td>\n",
       "      <td>0.517780</td>\n",
       "      <td>0.109348</td>\n",
       "      <td>248.638669</td>\n",
       "      <td>12.568704</td>\n",
       "      <td>0.552129</td>\n",
       "      <td>2.058408e+04</td>\n",
       "      <td>3.339099e+04</td>\n",
       "    </tr>\n",
       "    <tr>\n",
       "      <th>min</th>\n",
       "      <td>13.000000</td>\n",
       "      <td>0.000000</td>\n",
       "      <td>0.000000</td>\n",
       "      <td>1.000000</td>\n",
       "      <td>0.000000</td>\n",
       "      <td>1.000000</td>\n",
       "      <td>1.000000e+00</td>\n",
       "      <td>1.218868e+02</td>\n",
       "    </tr>\n",
       "    <tr>\n",
       "      <th>25%</th>\n",
       "      <td>23.000000</td>\n",
       "      <td>0.000000</td>\n",
       "      <td>0.000000</td>\n",
       "      <td>200.000000</td>\n",
       "      <td>38.000000</td>\n",
       "      <td>5.000000</td>\n",
       "      <td>7.000000e+02</td>\n",
       "      <td>9.263384e+02</td>\n",
       "    </tr>\n",
       "    <tr>\n",
       "      <th>50%</th>\n",
       "      <td>32.000000</td>\n",
       "      <td>0.000000</td>\n",
       "      <td>0.000000</td>\n",
       "      <td>392.200000</td>\n",
       "      <td>38.000000</td>\n",
       "      <td>5.000000</td>\n",
       "      <td>2.000000e+03</td>\n",
       "      <td>3.371242e+03</td>\n",
       "    </tr>\n",
       "    <tr>\n",
       "      <th>75%</th>\n",
       "      <td>43.000000</td>\n",
       "      <td>0.000000</td>\n",
       "      <td>0.000000</td>\n",
       "      <td>500.000000</td>\n",
       "      <td>40.000000</td>\n",
       "      <td>5.000000</td>\n",
       "      <td>9.500000e+03</td>\n",
       "      <td>8.197249e+03</td>\n",
       "    </tr>\n",
       "    <tr>\n",
       "      <th>max</th>\n",
       "      <td>81.000000</td>\n",
       "      <td>9.000000</td>\n",
       "      <td>5.000000</td>\n",
       "      <td>7497.000000</td>\n",
       "      <td>640.000000</td>\n",
       "      <td>7.000000</td>\n",
       "      <td>2.000000e+06</td>\n",
       "      <td>4.027136e+06</td>\n",
       "    </tr>\n",
       "  </tbody>\n",
       "</table>\n",
       "</div>"
      ],
      "text/plain": [
       "                Age  DependentChildren  DependentsOther   WeeklyWages  \\\n",
       "count  54000.000000       54000.000000     54000.000000  54000.000000   \n",
       "mean      33.842370           0.119185         0.009944    416.364807   \n",
       "std       12.122165           0.517780         0.109348    248.638669   \n",
       "min       13.000000           0.000000         0.000000      1.000000   \n",
       "25%       23.000000           0.000000         0.000000    200.000000   \n",
       "50%       32.000000           0.000000         0.000000    392.200000   \n",
       "75%       43.000000           0.000000         0.000000    500.000000   \n",
       "max       81.000000           9.000000         5.000000   7497.000000   \n",
       "\n",
       "       HoursWorkedPerWeek  DaysWorkedPerWeek  InitialIncurredClaimCost  \\\n",
       "count        54000.000000       54000.000000              5.400000e+04   \n",
       "mean            37.735084           4.905759              7.841146e+03   \n",
       "std             12.568704           0.552129              2.058408e+04   \n",
       "min              0.000000           1.000000              1.000000e+00   \n",
       "25%             38.000000           5.000000              7.000000e+02   \n",
       "50%             38.000000           5.000000              2.000000e+03   \n",
       "75%             40.000000           5.000000              9.500000e+03   \n",
       "max            640.000000           7.000000              2.000000e+06   \n",
       "\n",
       "       UltimateIncurredClaimCost  \n",
       "count               5.400000e+04  \n",
       "mean                1.100337e+04  \n",
       "std                 3.339099e+04  \n",
       "min                 1.218868e+02  \n",
       "25%                 9.263384e+02  \n",
       "50%                 3.371242e+03  \n",
       "75%                 8.197249e+03  \n",
       "max                 4.027136e+06  "
      ]
     },
     "execution_count": 6,
     "metadata": {},
     "output_type": "execute_result"
    }
   ],
   "source": [
    "df.describe()"
   ]
  },
  {
   "cell_type": "code",
   "execution_count": 7,
   "id": "c0030af1",
   "metadata": {},
   "outputs": [
    {
     "data": {
      "text/plain": [
       "1.403285838950895"
      ]
     },
     "execution_count": 7,
     "metadata": {},
     "output_type": "execute_result"
    }
   ],
   "source": [
    "df['UltimateIncurredClaimCost'].mean() / df['InitialIncurredClaimCost'].mean() "
   ]
  },
  {
   "cell_type": "markdown",
   "id": "0e2ae24c",
   "metadata": {},
   "source": [
    "The average of ultimated incurred claim cost is 40% higher than the initial estimate of the claim cost."
   ]
  },
  {
   "cell_type": "code",
   "execution_count": 8,
   "id": "81023d6e",
   "metadata": {},
   "outputs": [
    {
     "data": {
      "image/png": "[encoded data removed]",
      "text/plain": [
       "<Figure size 432x288 with 1 Axes>"
      ]
     },
     "metadata": {
      "needs_background": "light"
     },
     "output_type": "display_data"
    }
   ],
   "source": [
    "sns.countplot(data=df, x='Gender')\n",
    "plt.title(\"Distribution of Workers' Gender\", size=14);"
   ]
  },
  {
   "cell_type": "markdown",
   "id": "a89a6573",
   "metadata": {},
   "source": [
    "Most of the claims are from male policyholders."
   ]
  },
  {
   "cell_type": "code",
   "execution_count": 9,
   "id": "bd652142",
   "metadata": {},
   "outputs": [
    {
     "data": {
      "image/png": "[encoded data removed]",
      "text/plain": [
       "<Figure size 576x432 with 1 Axes>"
      ]
     },
     "metadata": {
      "needs_background": "light"
     },
     "output_type": "display_data"
    }
   ],
   "source": [
    "plt.figure(figsize=(8, 6))\n",
    "sns.boxplot(data=df, x='Gender', y='UltimateIncurredClaimCost')\n",
    "plt.ylim(0, 50_000)\n",
    "plt.title('Distribution of Ultimate Incurred Claim Cost based on Gender', size=14);"
   ]
  },
  {
   "cell_type": "markdown",
   "id": "8a52a69f",
   "metadata": {},
   "source": [
    "The average ultimate incurred claim cost are greater for male than female and highly skewed to the right."
   ]
  },
  {
   "cell_type": "code",
   "execution_count": 10,
   "id": "439e56f3",
   "metadata": {},
   "outputs": [
    {
     "data": {
      "text/html": [
       "<div>\n",
       "<style scoped>\n",
       "    .dataframe tbody tr th:only-of-type {\n",
       "        vertical-align: middle;\n",
       "    }\n",
       "\n",
       "    .dataframe tbody tr th {\n",
       "        vertical-align: top;\n",
       "    }\n",
       "\n",
       "    .dataframe thead th {\n",
       "        text-align: right;\n",
       "    }\n",
       "</style>\n",
       "<table border=\"1\" class=\"dataframe\">\n",
       "  <thead>\n",
       "    <tr style=\"text-align: right;\">\n",
       "      <th></th>\n",
       "      <th>ClaimNumber</th>\n",
       "      <th>DateTimeOfAccident</th>\n",
       "      <th>DateReported</th>\n",
       "      <th>ReportLag (Days)</th>\n",
       "      <th>Age</th>\n",
       "      <th>Gender</th>\n",
       "      <th>MaritalStatus</th>\n",
       "      <th>DependentChildren</th>\n",
       "      <th>DependentsOther</th>\n",
       "      <th>WeeklyWages</th>\n",
       "      <th>PartTimeFullTime</th>\n",
       "      <th>HoursWorkedPerWeek</th>\n",
       "      <th>DaysWorkedPerWeek</th>\n",
       "      <th>ClaimDescription</th>\n",
       "      <th>InitialIncurredClaimCost</th>\n",
       "      <th>UltimateIncurredClaimCost</th>\n",
       "    </tr>\n",
       "  </thead>\n",
       "  <tbody>\n",
       "    <tr>\n",
       "      <th>0</th>\n",
       "      <td>WC8285054</td>\n",
       "      <td>2002-04-09T07:00:00Z</td>\n",
       "      <td>2002-07-05T00:00:00Z</td>\n",
       "      <td>87</td>\n",
       "      <td>48</td>\n",
       "      <td>M</td>\n",
       "      <td>M</td>\n",
       "      <td>0</td>\n",
       "      <td>0</td>\n",
       "      <td>500.00</td>\n",
       "      <td>F</td>\n",
       "      <td>38.0</td>\n",
       "      <td>5</td>\n",
       "      <td>LIFTING TYRE INJURY TO RIGHT ARM AND WRIST INJURY</td>\n",
       "      <td>1500</td>\n",
       "      <td>4748.203388</td>\n",
       "    </tr>\n",
       "    <tr>\n",
       "      <th>1</th>\n",
       "      <td>WC6982224</td>\n",
       "      <td>1999-01-07T11:00:00Z</td>\n",
       "      <td>1999-01-20T00:00:00Z</td>\n",
       "      <td>13</td>\n",
       "      <td>43</td>\n",
       "      <td>F</td>\n",
       "      <td>M</td>\n",
       "      <td>0</td>\n",
       "      <td>0</td>\n",
       "      <td>509.34</td>\n",
       "      <td>F</td>\n",
       "      <td>37.5</td>\n",
       "      <td>5</td>\n",
       "      <td>STEPPED AROUND CRATES AND TRUCK TRAY FRACTURE ...</td>\n",
       "      <td>5500</td>\n",
       "      <td>6326.285819</td>\n",
       "    </tr>\n",
       "    <tr>\n",
       "      <th>2</th>\n",
       "      <td>WC5481426</td>\n",
       "      <td>1996-03-25T00:00:00Z</td>\n",
       "      <td>1996-04-14T00:00:00Z</td>\n",
       "      <td>20</td>\n",
       "      <td>30</td>\n",
       "      <td>M</td>\n",
       "      <td>U</td>\n",
       "      <td>0</td>\n",
       "      <td>0</td>\n",
       "      <td>709.10</td>\n",
       "      <td>F</td>\n",
       "      <td>38.0</td>\n",
       "      <td>5</td>\n",
       "      <td>CUT ON SHARP EDGE CUT LEFT THUMB</td>\n",
       "      <td>1700</td>\n",
       "      <td>2293.949087</td>\n",
       "    </tr>\n",
       "    <tr>\n",
       "      <th>3</th>\n",
       "      <td>WC9775968</td>\n",
       "      <td>2005-06-22T13:00:00Z</td>\n",
       "      <td>2005-07-22T00:00:00Z</td>\n",
       "      <td>30</td>\n",
       "      <td>41</td>\n",
       "      <td>M</td>\n",
       "      <td>S</td>\n",
       "      <td>0</td>\n",
       "      <td>0</td>\n",
       "      <td>555.46</td>\n",
       "      <td>F</td>\n",
       "      <td>38.0</td>\n",
       "      <td>5</td>\n",
       "      <td>DIGGING LOWER BACK LOWER BACK STRAIN</td>\n",
       "      <td>15000</td>\n",
       "      <td>17786.487170</td>\n",
       "    </tr>\n",
       "    <tr>\n",
       "      <th>4</th>\n",
       "      <td>WC2634037</td>\n",
       "      <td>1990-08-29T08:00:00Z</td>\n",
       "      <td>1990-09-27T00:00:00Z</td>\n",
       "      <td>29</td>\n",
       "      <td>36</td>\n",
       "      <td>M</td>\n",
       "      <td>M</td>\n",
       "      <td>0</td>\n",
       "      <td>0</td>\n",
       "      <td>377.10</td>\n",
       "      <td>F</td>\n",
       "      <td>38.0</td>\n",
       "      <td>5</td>\n",
       "      <td>REACHING ABOVE SHOULDER LEVEL ACUTE MUSCLE STR...</td>\n",
       "      <td>2800</td>\n",
       "      <td>4014.002925</td>\n",
       "    </tr>\n",
       "  </tbody>\n",
       "</table>\n",
       "</div>"
      ],
      "text/plain": [
       "  ClaimNumber    DateTimeOfAccident          DateReported  ReportLag (Days)  \\\n",
       "0   WC8285054  2002-04-09T07:00:00Z  2002-07-05T00:00:00Z                87   \n",
       "1   WC6982224  1999-01-07T11:00:00Z  1999-01-20T00:00:00Z                13   \n",
       "2   WC5481426  1996-03-25T00:00:00Z  1996-04-14T00:00:00Z                20   \n",
       "3   WC9775968  2005-06-22T13:00:00Z  2005-07-22T00:00:00Z                30   \n",
       "4   WC2634037  1990-08-29T08:00:00Z  1990-09-27T00:00:00Z                29   \n",
       "\n",
       "   Age Gender MaritalStatus  DependentChildren  DependentsOther  WeeklyWages  \\\n",
       "0   48      M             M                  0                0       500.00   \n",
       "1   43      F             M                  0                0       509.34   \n",
       "2   30      M             U                  0                0       709.10   \n",
       "3   41      M             S                  0                0       555.46   \n",
       "4   36      M             M                  0                0       377.10   \n",
       "\n",
       "  PartTimeFullTime  HoursWorkedPerWeek  DaysWorkedPerWeek  \\\n",
       "0                F                38.0                  5   \n",
       "1                F                37.5                  5   \n",
       "2                F                38.0                  5   \n",
       "3                F                38.0                  5   \n",
       "4                F                38.0                  5   \n",
       "\n",
       "                                    ClaimDescription  \\\n",
       "0  LIFTING TYRE INJURY TO RIGHT ARM AND WRIST INJURY   \n",
       "1  STEPPED AROUND CRATES AND TRUCK TRAY FRACTURE ...   \n",
       "2                   CUT ON SHARP EDGE CUT LEFT THUMB   \n",
       "3               DIGGING LOWER BACK LOWER BACK STRAIN   \n",
       "4  REACHING ABOVE SHOULDER LEVEL ACUTE MUSCLE STR...   \n",
       "\n",
       "   InitialIncurredClaimCost  UltimateIncurredClaimCost  \n",
       "0                      1500                4748.203388  \n",
       "1                      5500                6326.285819  \n",
       "2                      1700                2293.949087  \n",
       "3                     15000               17786.487170  \n",
       "4                      2800                4014.002925  "
      ]
     },
     "execution_count": 10,
     "metadata": {},
     "output_type": "execute_result"
    }
   ],
   "source": [
    "# Insert new column that shows the report lag (difference between report date and accident date)\n",
    "df.insert(3, 'ReportLag (Days)', (pd.to_datetime(df['DateReported'].str.slice(0, 10)) \n",
    "                                    - pd.to_datetime(df['DateTimeOfAccident'].str.slice(0, 10))).dt.days)\n",
    "df.head()"
   ]
  },
  {
   "cell_type": "code",
   "execution_count": 11,
   "id": "fec63192",
   "metadata": {},
   "outputs": [
    {
     "data": {
      "text/plain": [
       "ReportLag (Days)             0.027835\n",
       "Age                          0.102716\n",
       "DependentChildren            0.033450\n",
       "DependentsOther              0.027560\n",
       "WeeklyWages                  0.151695\n",
       "HoursWorkedPerWeek           0.004543\n",
       "DaysWorkedPerWeek            0.001901\n",
       "InitialIncurredClaimCost     0.394991\n",
       "UltimateIncurredClaimCost    1.000000\n",
       "Name: UltimateIncurredClaimCost, dtype: float64"
      ]
     },
     "execution_count": 11,
     "metadata": {},
     "output_type": "execute_result"
    }
   ],
   "source": [
    "df.corr()['UltimateIncurredClaimCost']"
   ]
  },
  {
   "cell_type": "code",
   "execution_count": 12,
   "id": "5251194b",
   "metadata": {},
   "outputs": [
    {
     "data": {
      "image/png": "[encoded data removed]",
      "text/plain": [
       "<Figure size 432x288 with 1 Axes>"
      ]
     },
     "metadata": {
      "needs_background": "light"
     },
     "output_type": "display_data"
    }
   ],
   "source": [
    "df['ReportLag (Days)'].hist(bins=30, range=(0, 250))\n",
    "plt.xlabel('Report Lag (Days)')\n",
    "plt.ylabel('Count')\n",
    "plt.title(\"Distribution of Claims Report Lag\", size=14);"
   ]
  },
  {
   "cell_type": "code",
   "execution_count": 13,
   "id": "488d6753",
   "metadata": {},
   "outputs": [
    {
     "data": {
      "image/png": "[encoded data removed]",
      "text/plain": [
       "<Figure size 432x288 with 1 Axes>"
      ]
     },
     "metadata": {
      "needs_background": "light"
     },
     "output_type": "display_data"
    }
   ],
   "source": [
    "df['Age'].hist(bins=15)\n",
    "plt.xlabel('Age')\n",
    "plt.ylabel('Count')\n",
    "plt.title(\"Distribution of Workers' Age\", size=14);"
   ]
  },
  {
   "cell_type": "markdown",
   "id": "436f3d33",
   "metadata": {},
   "source": [
    "The Distribution of age and report lag are also right-skewed."
   ]
  },
  {
   "cell_type": "code",
   "execution_count": 14,
   "id": "52141d9c",
   "metadata": {},
   "outputs": [
    {
     "data": {
      "image/png": "[encoded data removed]",
      "text/plain": [
       "<Figure size 432x288 with 1 Axes>"
      ]
     },
     "metadata": {
      "needs_background": "light"
     },
     "output_type": "display_data"
    }
   ],
   "source": [
    "sns.scatterplot(data=df.groupby('Age')['UltimateIncurredClaimCost'].mean().reset_index(),\n",
    "                x='Age', y='UltimateIncurredClaimCost', linewidth=.3)\n",
    "plt.title('Average Ultimate Incurred Claim Cost based on Age', size=14);"
   ]
  },
  {
   "cell_type": "markdown",
   "id": "487b9020",
   "metadata": {},
   "source": [
    "The ultimate incurred claim cost tends to increase as the insured gets older but eventually decrease. Hence the `age` variable may have quadratic relationship with the ultimate incurred claim cost."
   ]
  },
  {
   "cell_type": "code",
   "execution_count": 15,
   "id": "9e0df4ba",
   "metadata": {},
   "outputs": [
    {
     "data": {
      "image/png": "[encoded data removed]",
      "text/plain": [
       "<Figure size 432x288 with 1 Axes>"
      ]
     },
     "metadata": {
      "needs_background": "light"
     },
     "output_type": "display_data"
    }
   ],
   "source": [
    "df['MaritalStatus'] = df['MaritalStatus'].fillna('U')\n",
    "sns.countplot(data=df, x='MaritalStatus')\n",
    "plt.title(\"Distribution of Workers' Marital Status\", size=14);"
   ]
  },
  {
   "cell_type": "code",
   "execution_count": 16,
   "id": "51e246cc",
   "metadata": {},
   "outputs": [
    {
     "data": {
      "text/plain": [
       "MaritalStatus\n",
       "M    12024.933597\n",
       "S     9105.578095\n",
       "U    16009.299588\n",
       "Name: UltimateIncurredClaimCost, dtype: float64"
      ]
     },
     "execution_count": 16,
     "metadata": {},
     "output_type": "execute_result"
    }
   ],
   "source": [
    "df.groupby('MaritalStatus')['UltimateIncurredClaimCost'].mean()"
   ]
  },
  {
   "cell_type": "code",
   "execution_count": 17,
   "id": "8899ea19",
   "metadata": {},
   "outputs": [
    {
     "data": {
      "text/plain": [
       "0    50639\n",
       "2     1361\n",
       "1     1273\n",
       "3      528\n",
       "4      150\n",
       "5       42\n",
       "6        5\n",
       "8        1\n",
       "9        1\n",
       "Name: DependentChildren, dtype: int64"
      ]
     },
     "execution_count": 17,
     "metadata": {},
     "output_type": "execute_result"
    }
   ],
   "source": [
    "df['DependentChildren'].value_counts()"
   ]
  },
  {
   "cell_type": "code",
   "execution_count": 18,
   "id": "2e399cb9",
   "metadata": {},
   "outputs": [
    {
     "data": {
      "text/plain": [
       "0    53506\n",
       "1      462\n",
       "2       23\n",
       "3        8\n",
       "5        1\n",
       "Name: DependentsOther, dtype: int64"
      ]
     },
     "execution_count": 18,
     "metadata": {},
     "output_type": "execute_result"
    }
   ],
   "source": [
    "df['DependentsOther'].value_counts()"
   ]
  },
  {
   "cell_type": "markdown",
   "id": "ac1c2d93",
   "metadata": {},
   "source": [
    "Most of the workers related to the claims don't have any dependents"
   ]
  },
  {
   "cell_type": "code",
   "execution_count": 19,
   "id": "19478557",
   "metadata": {},
   "outputs": [
    {
     "data": {
      "image/png": "[encoded data removed]",
      "text/plain": [
       "<Figure size 432x288 with 1 Axes>"
      ]
     },
     "metadata": {
      "needs_background": "light"
     },
     "output_type": "display_data"
    }
   ],
   "source": [
    "df['WeeklyWages'].hist(bins=50, range=(0, 2500))\n",
    "plt.xlabel('Weekly Wages')\n",
    "plt.ylabel('Count')\n",
    "plt.title(\"Distribution of Workers' Weekly Wages\", size=14);"
   ]
  },
  {
   "cell_type": "markdown",
   "id": "ca27fa24",
   "metadata": {},
   "source": [
    "The most common weekly wages are around 250-500 CU. The distribution are also right-skewed."
   ]
  },
  {
   "cell_type": "code",
   "execution_count": 20,
   "id": "1a1dd065",
   "metadata": {
    "scrolled": true
   },
   "outputs": [
    {
     "data": {
      "text/plain": [
       "1.00    122\n",
       "4.73      2\n",
       "3.95      2\n",
       "4.61      1\n",
       "3.59      1\n",
       "1.91      1\n",
       "Name: WeeklyWages, dtype: int64"
      ]
     },
     "execution_count": 20,
     "metadata": {},
     "output_type": "execute_result"
    }
   ],
   "source": [
    "df.loc[df['WeeklyWages'] < 5, 'WeeklyWages'].value_counts()"
   ]
  },
  {
   "cell_type": "markdown",
   "id": "0daccd3e",
   "metadata": {},
   "source": [
    "Some of the workers related to the claims have weekly wages less than 5 CU and most of them are 1. Hence, we will assume that these are missing values and change it no NaN in the preprocessing steps."
   ]
  },
  {
   "cell_type": "code",
   "execution_count": 21,
   "id": "552e8655",
   "metadata": {},
   "outputs": [
    {
     "data": {
      "image/png": "[encoded data removed]",
      "text/plain": [
       "<Figure size 432x288 with 1 Axes>"
      ]
     },
     "metadata": {
      "needs_background": "light"
     },
     "output_type": "display_data"
    }
   ],
   "source": [
    "sns.countplot(data=df, x='PartTimeFullTime')\n",
    "plt.xlabel('Part Time/Full Time')\n",
    "plt.title('Number of Part Time and Full Time Workers', size=14);"
   ]
  },
  {
   "cell_type": "code",
   "execution_count": 22,
   "id": "41a7b7af",
   "metadata": {},
   "outputs": [
    {
     "data": {
      "image/png": "[encoded data removed]",
      "text/plain": [
       "<Figure size 432x288 with 1 Axes>"
      ]
     },
     "metadata": {
      "needs_background": "light"
     },
     "output_type": "display_data"
    }
   ],
   "source": [
    "sns.boxplot(data=df, x='PartTimeFullTime', y='UltimateIncurredClaimCost')\n",
    "plt.xlabel('Part Time/Full Time')\n",
    "plt.ylim(0, 50_000);"
   ]
  },
  {
   "cell_type": "markdown",
   "id": "cb8df488",
   "metadata": {},
   "source": [
    "Most of the claims come from full time workers, although the average of ultimate incurred claim cost for this group is lower than the part time"
   ]
  },
  {
   "cell_type": "code",
   "execution_count": 23,
   "id": "a87ab417",
   "metadata": {},
   "outputs": [
    {
     "data": {
      "image/png": "[encoded data removed]",
      "text/plain": [
       "<Figure size 432x288 with 1 Axes>"
      ]
     },
     "metadata": {
      "needs_background": "light"
     },
     "output_type": "display_data"
    }
   ],
   "source": [
    "sns.scatterplot(data=df[['HoursWorkedPerWeek', 'DaysWorkedPerWeek']],\n",
    "                x='DaysWorkedPerWeek', y='HoursWorkedPerWeek', linewidth=.3);"
   ]
  },
  {
   "cell_type": "code",
   "execution_count": 24,
   "id": "cffc6bd2",
   "metadata": {},
   "outputs": [
    {
     "data": {
      "text/plain": [
       "78"
      ]
     },
     "execution_count": 24,
     "metadata": {},
     "output_type": "execute_result"
    }
   ],
   "source": [
    "# Assume workers work maximum 18 hours per day\n",
    "# If the hours worked per week is greater than 18 times days worked per week, the data are incorrect\n",
    "(df['HoursWorkedPerWeek'] > df['DaysWorkedPerWeek'] * 18).sum()"
   ]
  },
  {
   "cell_type": "markdown",
   "id": "c9bbc3ef",
   "metadata": {},
   "source": [
    "There are only 168 hours per week. However there are some workers that work more than 200 hours a week. Moreover, if we assume a worker works for maximum 18 hours a day, there are several workers where the hours worked per week is greater than 18 times days worked per week. Therefore, we will cap the `HoursWorkedPerWeek` column values to `DaysWorkedPerWeek` times 18."
   ]
  },
  {
   "cell_type": "markdown",
   "id": "33d09313",
   "metadata": {},
   "source": [
    "## Data Preparation"
   ]
  },
  {
   "cell_type": "code",
   "execution_count": 25,
   "id": "99105d0a",
   "metadata": {},
   "outputs": [],
   "source": [
    "# Split the data into predictor and response variables\n",
    "X = df_copy.drop('UltimateIncurredClaimCost', axis=1)\n",
    "y = df_copy['UltimateIncurredClaimCost'].values"
   ]
  },
  {
   "cell_type": "code",
   "execution_count": 26,
   "id": "7792a5f9",
   "metadata": {},
   "outputs": [],
   "source": [
    "def preprocess_data(X):\n",
    "    '''\n",
    "    Preprocess data according to analysis from previous section and encode the categorical variables into dummies\n",
    "\n",
    "    INPUT:\n",
    "    X - dataframe to be processed\n",
    "\n",
    "    OUTPUT:\n",
    "    pandas dataframe containing processed data\n",
    "    '''\n",
    "    \n",
    "    X = X.rename(\n",
    "        columns={'InitialIncurredCalimsCost': 'InitialIncurredClaimCost'})\n",
    "\n",
    "    X['ReportLag (Days)'] = (pd.to_datetime(X['DateReported'].str.slice(0, 10))\n",
    "                             - pd.to_datetime(X['DateTimeOfAccident'].str.slice(0, 10))).dt.days\n",
    "    \n",
    "    X['Accident Year'] = X['DateTimeOfAccident'].str.slice(0, 4).apply(int)  # get the accident year\n",
    "\n",
    "    # Drop columns not needed for prediction\n",
    "    # We also drop InitialIncurredClaimCost column because we want to know how the ML algorithms will perform\n",
    "    # without input from actuarial estimation\n",
    "    X = X.drop(['ClaimNumber', 'DateTimeOfAccident',\n",
    "                'DateReported', 'InitialIncurredClaimCost'], axis=1)\n",
    "    \n",
    "    # Change weekly wages that are less than 5 to NaN\n",
    "    X.loc[X['WeeklyWages'] < 5, 'WeeklyWages'] = np.nan\n",
    "    \n",
    "    # Cap the `HoursWorkedPerWeek` column values to `DaysWorkedPerWeek` times 18.\n",
    "    X['HoursWorkedPerWeek'] = X.apply(lambda row: row['DaysWorkedPerWeek'] * 18 \n",
    "                                      if (row['HoursWorkedPerWeek'] > row['DaysWorkedPerWeek'] * 18)\n",
    "                                      else row['HoursWorkedPerWeek'], axis=1)\n",
    "    \n",
    "    # Fill Gender and Marital Status missing values with unknown\n",
    "    X['Gender'] = X['Gender'].fillna('U')\n",
    "    X['MaritalStatus'] = X['MaritalStatus'].fillna('U')\n",
    "\n",
    "    # Change categorical features to dummy variables\n",
    "    X['Gender_M'] = X['Gender'].apply(lambda x: 1 if x == 'M' else 0)\n",
    "    X['Gender_F'] = X['Gender'].apply(lambda x: 1 if x == 'F' else 0)\n",
    "    X['PartTimeFullTime'] = X['PartTimeFullTime'].replace({'F': 1, 'P': 0})\n",
    "    X['MaritalStatus_M'] = X['MaritalStatus'].apply(\n",
    "        lambda x: 1 if x == 'M' else 0)\n",
    "    X['MaritalStatus_S'] = X['MaritalStatus'].apply(\n",
    "        lambda x: 1 if x == 'S' else 0)\n",
    "    X = X.drop(['Gender', 'MaritalStatus'], axis=1)\n",
    "    return X\n",
    "\n",
    "\n",
    "X = preprocess_data(X)"
   ]
  },
  {
   "cell_type": "code",
   "execution_count": 27,
   "id": "680c2d53",
   "metadata": {
    "scrolled": true
   },
   "outputs": [
    {
     "data": {
      "text/html": [
       "<div>\n",
       "<style scoped>\n",
       "    .dataframe tbody tr th:only-of-type {\n",
       "        vertical-align: middle;\n",
       "    }\n",
       "\n",
       "    .dataframe tbody tr th {\n",
       "        vertical-align: top;\n",
       "    }\n",
       "\n",
       "    .dataframe thead th {\n",
       "        text-align: right;\n",
       "    }\n",
       "</style>\n",
       "<table border=\"1\" class=\"dataframe\">\n",
       "  <thead>\n",
       "    <tr style=\"text-align: right;\">\n",
       "      <th></th>\n",
       "      <th>Age</th>\n",
       "      <th>DependentChildren</th>\n",
       "      <th>DependentsOther</th>\n",
       "      <th>WeeklyWages</th>\n",
       "      <th>PartTimeFullTime</th>\n",
       "      <th>HoursWorkedPerWeek</th>\n",
       "      <th>DaysWorkedPerWeek</th>\n",
       "      <th>ClaimDescription</th>\n",
       "      <th>ReportLag (Days)</th>\n",
       "      <th>Accident Year</th>\n",
       "      <th>Gender_M</th>\n",
       "      <th>Gender_F</th>\n",
       "      <th>MaritalStatus_M</th>\n",
       "      <th>MaritalStatus_S</th>\n",
       "    </tr>\n",
       "  </thead>\n",
       "  <tbody>\n",
       "    <tr>\n",
       "      <th>0</th>\n",
       "      <td>48</td>\n",
       "      <td>0</td>\n",
       "      <td>0</td>\n",
       "      <td>500.00</td>\n",
       "      <td>1</td>\n",
       "      <td>38.0</td>\n",
       "      <td>5</td>\n",
       "      <td>LIFTING TYRE INJURY TO RIGHT ARM AND WRIST INJURY</td>\n",
       "      <td>87</td>\n",
       "      <td>2002</td>\n",
       "      <td>1</td>\n",
       "      <td>0</td>\n",
       "      <td>1</td>\n",
       "      <td>0</td>\n",
       "    </tr>\n",
       "    <tr>\n",
       "      <th>1</th>\n",
       "      <td>43</td>\n",
       "      <td>0</td>\n",
       "      <td>0</td>\n",
       "      <td>509.34</td>\n",
       "      <td>1</td>\n",
       "      <td>37.5</td>\n",
       "      <td>5</td>\n",
       "      <td>STEPPED AROUND CRATES AND TRUCK TRAY FRACTURE ...</td>\n",
       "      <td>13</td>\n",
       "      <td>1999</td>\n",
       "      <td>0</td>\n",
       "      <td>1</td>\n",
       "      <td>1</td>\n",
       "      <td>0</td>\n",
       "    </tr>\n",
       "    <tr>\n",
       "      <th>2</th>\n",
       "      <td>30</td>\n",
       "      <td>0</td>\n",
       "      <td>0</td>\n",
       "      <td>709.10</td>\n",
       "      <td>1</td>\n",
       "      <td>38.0</td>\n",
       "      <td>5</td>\n",
       "      <td>CUT ON SHARP EDGE CUT LEFT THUMB</td>\n",
       "      <td>20</td>\n",
       "      <td>1996</td>\n",
       "      <td>1</td>\n",
       "      <td>0</td>\n",
       "      <td>0</td>\n",
       "      <td>0</td>\n",
       "    </tr>\n",
       "    <tr>\n",
       "      <th>3</th>\n",
       "      <td>41</td>\n",
       "      <td>0</td>\n",
       "      <td>0</td>\n",
       "      <td>555.46</td>\n",
       "      <td>1</td>\n",
       "      <td>38.0</td>\n",
       "      <td>5</td>\n",
       "      <td>DIGGING LOWER BACK LOWER BACK STRAIN</td>\n",
       "      <td>30</td>\n",
       "      <td>2005</td>\n",
       "      <td>1</td>\n",
       "      <td>0</td>\n",
       "      <td>0</td>\n",
       "      <td>1</td>\n",
       "    </tr>\n",
       "    <tr>\n",
       "      <th>4</th>\n",
       "      <td>36</td>\n",
       "      <td>0</td>\n",
       "      <td>0</td>\n",
       "      <td>377.10</td>\n",
       "      <td>1</td>\n",
       "      <td>38.0</td>\n",
       "      <td>5</td>\n",
       "      <td>REACHING ABOVE SHOULDER LEVEL ACUTE MUSCLE STR...</td>\n",
       "      <td>29</td>\n",
       "      <td>1990</td>\n",
       "      <td>1</td>\n",
       "      <td>0</td>\n",
       "      <td>1</td>\n",
       "      <td>0</td>\n",
       "    </tr>\n",
       "  </tbody>\n",
       "</table>\n",
       "</div>"
      ],
      "text/plain": [
       "   Age  DependentChildren  DependentsOther  WeeklyWages  PartTimeFullTime  \\\n",
       "0   48                  0                0       500.00                 1   \n",
       "1   43                  0                0       509.34                 1   \n",
       "2   30                  0                0       709.10                 1   \n",
       "3   41                  0                0       555.46                 1   \n",
       "4   36                  0                0       377.10                 1   \n",
       "\n",
       "   HoursWorkedPerWeek  DaysWorkedPerWeek  \\\n",
       "0                38.0                  5   \n",
       "1                37.5                  5   \n",
       "2                38.0                  5   \n",
       "3                38.0                  5   \n",
       "4                38.0                  5   \n",
       "\n",
       "                                    ClaimDescription  ReportLag (Days)  \\\n",
       "0  LIFTING TYRE INJURY TO RIGHT ARM AND WRIST INJURY                87   \n",
       "1  STEPPED AROUND CRATES AND TRUCK TRAY FRACTURE ...                13   \n",
       "2                   CUT ON SHARP EDGE CUT LEFT THUMB                20   \n",
       "3               DIGGING LOWER BACK LOWER BACK STRAIN                30   \n",
       "4  REACHING ABOVE SHOULDER LEVEL ACUTE MUSCLE STR...                29   \n",
       "\n",
       "   Accident Year  Gender_M  Gender_F  MaritalStatus_M  MaritalStatus_S  \n",
       "0           2002         1         0                1                0  \n",
       "1           1999         0         1                1                0  \n",
       "2           1996         1         0                0                0  \n",
       "3           2005         1         0                0                1  \n",
       "4           1990         1         0                1                0  "
      ]
     },
     "execution_count": 27,
     "metadata": {},
     "output_type": "execute_result"
    }
   ],
   "source": [
    "X.head()"
   ]
  },
  {
   "cell_type": "code",
   "execution_count": 28,
   "id": "644f641d",
   "metadata": {},
   "outputs": [
    {
     "data": {
      "text/plain": [
       "Age                     int64\n",
       "DependentChildren       int64\n",
       "DependentsOther         int64\n",
       "WeeklyWages           float64\n",
       "PartTimeFullTime        int64\n",
       "HoursWorkedPerWeek    float64\n",
       "DaysWorkedPerWeek       int64\n",
       "ClaimDescription       object\n",
       "ReportLag (Days)        int64\n",
       "Accident Year           int64\n",
       "Gender_M                int64\n",
       "Gender_F                int64\n",
       "MaritalStatus_M         int64\n",
       "MaritalStatus_S         int64\n",
       "dtype: object"
      ]
     },
     "execution_count": 28,
     "metadata": {},
     "output_type": "execute_result"
    }
   ],
   "source": [
    "X.dtypes"
   ]
  },
  {
   "cell_type": "code",
   "execution_count": 29,
   "id": "637111c8",
   "metadata": {},
   "outputs": [],
   "source": [
    "# split the dataset into train and validation data\n",
    "X_train, X_val, y_train, y_val = train_test_split(X, y, test_size=.2, random_state=42)\n",
    "\n",
    "# split the original dataframe to compute mean squared error from actuarial estimation\n",
    "_, df_val = train_test_split(df, test_size=.2, random_state=42)"
   ]
  },
  {
   "cell_type": "markdown",
   "id": "4ffbd7b1",
   "metadata": {},
   "source": [
    "## Data Modeling And Validation"
   ]
  },
  {
   "cell_type": "markdown",
   "id": "9fb3d9d4",
   "metadata": {},
   "source": [
    "Several metrics can be used to score our models such as RMSE (root mean squared error). RMSE is a very common and suitable general-purpose error metric. Compared to the Mean Absolute Error, RMSE punishes large errors. Hence, we will use this metric to compare our models using the validation data."
   ]
  },
  {
   "cell_type": "code",
   "execution_count": 30,
   "id": "293d56ad",
   "metadata": {},
   "outputs": [
    {
     "data": {
      "text/plain": [
       "27869.324453139514"
      ]
     },
     "execution_count": 30,
     "metadata": {},
     "output_type": "execute_result"
    }
   ],
   "source": [
    "# compute RMSE from actuarial estimation \n",
    "np.sqrt(mean_squared_error(df_val['UltimateIncurredClaimCost'],\n",
    "                           df_val['InitialIncurredClaimCost']))"
   ]
  },
  {
   "cell_type": "markdown",
   "id": "a6a1db91",
   "metadata": {},
   "source": [
    "This metric acts as the baseline to score our ML models. The mean squared error of the ML models should not significantly higher than this if it cannot be lower because of limited data."
   ]
  },
  {
   "cell_type": "code",
   "execution_count": 31,
   "id": "133078ff",
   "metadata": {},
   "outputs": [],
   "source": [
    "def tokenize(text):\n",
    "    '''\n",
    "    Processes text to list of tokens\n",
    "    \n",
    "    INPUT:\n",
    "    text\n",
    "    \n",
    "    OUTPUT:\n",
    "    list - tokens generated from the text\n",
    "    '''\n",
    "    tokens = word_tokenize(text)\n",
    "    return [WordNetLemmatizer().lemmatize(tok).lower().strip() for tok in tokens\n",
    "        if tok not in stopwords.words(\"english\")]"
   ]
  },
  {
   "cell_type": "code",
   "execution_count": 32,
   "id": "1e790ec0",
   "metadata": {},
   "outputs": [
    {
     "data": {
      "text/plain": [
       "29090.640778951813"
      ]
     },
     "execution_count": 32,
     "metadata": {},
     "output_type": "execute_result"
    }
   ],
   "source": [
    "# Create ML pipelines to process the data and use Linear Regression as the regressor\n",
    "lin_reg = Pipeline([('trans_col', # vectorize the claim description column \n",
    "                                  # add polynomial features of degree 2 to variable age\n",
    "                     ColumnTransformer([('vectorizer', CountVectorizer(tokenizer=tokenize,\n",
    "                                                                       binary=True), 'ClaimDescription'),\n",
    "                                        ('poly', PolynomialFeatures(2, include_bias=False), ['Age'])],\n",
    "                                       remainder='passthrough', sparse_threshold=0)),\n",
    "                    ('scaler', StandardScaler()),  # Standardize the features\n",
    "                    ('imputer', SimpleImputer()),  # impute missing values using the mean of train data column\n",
    "                    ('dim_red', PCA(256)),  # reduce feature dimension\n",
    "                    ('reg', LinearRegression(n_jobs=-1))])\n",
    "# fit the model to the train data\n",
    "lin_reg.fit(X_train, y_train)\n",
    "\n",
    "# calculate mean squared error on validation data\n",
    "y_val_pred = lin_reg.predict(X_val)\n",
    "np.sqrt(mean_squared_error(y_val, y_val_pred))"
   ]
  },
  {
   "cell_type": "markdown",
   "id": "ac540435",
   "metadata": {},
   "source": [
    "The RMSE is only 5% higher than the actuarial method. Therefore the linear regression model is acceptable."
   ]
  },
  {
   "cell_type": "code",
   "execution_count": 33,
   "id": "284268cf",
   "metadata": {},
   "outputs": [
    {
     "data": {
      "text/plain": [
       "31204.935560117963"
      ]
     },
     "execution_count": 33,
     "metadata": {},
     "output_type": "execute_result"
    }
   ],
   "source": [
    "# Use random forest as the regressor\n",
    "rf_reg = Pipeline([('trans_col',\n",
    "                    ColumnTransformer([('vectorizer', CountVectorizer(tokenizer=tokenize,\n",
    "                                                                      binary=True), 'ClaimDescription'),\n",
    "                                       ('poly', PolynomialFeatures(2, include_bias=False), ['Age'])],\n",
    "                                      remainder='passthrough', sparse_threshold=0)),\n",
    "                   ('imputer', SimpleImputer()),  \n",
    "                   ('scaler', StandardScaler()),\n",
    "                   ('dim_red', PCA(256)),\n",
    "                   ('reg', RandomForestRegressor(n_jobs=-1))])\n",
    "\n",
    "rf_reg.fit(X_train, y_train)\n",
    "\n",
    "y_val_pred = rf_reg.predict(X_val)\n",
    "np.sqrt(mean_squared_error(y_val, y_val_pred))"
   ]
  },
  {
   "cell_type": "markdown",
   "id": "38f462d8",
   "metadata": {},
   "source": [
    "the random forest model has higher RMSE than the linear model."
   ]
  },
  {
   "cell_type": "code",
   "execution_count": 34,
   "id": "63a064d4",
   "metadata": {},
   "outputs": [],
   "source": [
    "def create_model():\n",
    "    '''\n",
    "    Create Neural Network models\n",
    "    \n",
    "    INPUT:\n",
    "    None\n",
    "    \n",
    "    OUTPUT:\n",
    "    keras model\n",
    "    '''\n",
    "    model = models.Sequential([layers.Dense(256, activation='relu'),\n",
    "                               layers.Dropout(.5),\n",
    "                               layers.Dense(128, activation='relu'),\n",
    "                               layers.Dropout(.5),\n",
    "                               layers.Dense(64, activation='relu'),\n",
    "                               layers.Dropout(.5),\n",
    "                               layers.Dense(16, activation='relu'),\n",
    "                               layers.Dropout(.5),\n",
    "                               layers.Dense(1, activation='relu')])\n",
    "    model.compile(loss='mean_squared_error', optimizer=tf.keras.optimizers.Adam(),\n",
    "                  metrics=[tf.keras.metrics.RootMeanSquaredError()])\n",
    "    return model"
   ]
  },
  {
   "cell_type": "code",
   "execution_count": 35,
   "id": "e41b7934",
   "metadata": {},
   "outputs": [
    {
     "data": {
      "text/plain": [
       "31303.116443064053"
      ]
     },
     "execution_count": 35,
     "metadata": {},
     "output_type": "execute_result"
    }
   ],
   "source": [
    "# Use neural network as the regressor\n",
    "nn_reg = Pipeline([('trans_col',\n",
    "                    ColumnTransformer([('vectorizer', CountVectorizer(tokenizer=tokenize,\n",
    "                                                                      binary=True), 'ClaimDescription'),\n",
    "                                       ('poly', PolynomialFeatures(2, include_bias=False), ['Age'])],\n",
    "                                      remainder='passthrough', sparse_threshold=0)),\n",
    "                   ('imputer', SimpleImputer()),\n",
    "                   ('scaler', StandardScaler()),\n",
    "                   ('reg', KerasRegressor(create_model, epochs=50, batch_size=256, verbose=0))])\n",
    "\n",
    "nn_reg.fit(X_train, y_train)\n",
    "\n",
    "y_val_pred = nn_reg.predict(X_val)\n",
    "np.sqrt(mean_squared_error(y_val, y_val_pred))"
   ]
  },
  {
   "cell_type": "markdown",
   "id": "9f2b4517",
   "metadata": {},
   "source": [
    "Because the linear model produces the lowest validation error, we will use it to make prediction on test data. But first we need to determine the best hyperparameter for the linear model using GridSearch"
   ]
  },
  {
   "cell_type": "code",
   "execution_count": 36,
   "id": "c2c9d9ac",
   "metadata": {},
   "outputs": [
    {
     "data": {
      "text/plain": [
       "29088.602138296203"
      ]
     },
     "execution_count": 36,
     "metadata": {},
     "output_type": "execute_result"
    }
   ],
   "source": [
    "# Use GridSearch to find the best hyperparameter\n",
    "param_grid = {'dim_red__n_components': [128, 256, 512],\n",
    "              'imputer__fill_value' : ['mean', 'median']}\n",
    "\n",
    "final_model = GridSearchCV(lin_reg, param_grid)\n",
    "\n",
    "final_model.fit(X_train, y_train)\n",
    "\n",
    "y_val_pred = final_model.predict(X_val)\n",
    "np.sqrt(mean_squared_error(y_val, y_val_pred))"
   ]
  },
  {
   "cell_type": "markdown",
   "id": "45750d68",
   "metadata": {},
   "source": [
    "The linear regression model seems to perform better than the other models due to small train data. However, it is worse than the actuarial method, although by only 5% higher RMSE. Some improvements to get better results are: collect more data, use other metrics to train and validate the model, try other ML models, or by adding more features."
   ]
  },
  {
   "cell_type": "markdown",
   "id": "c06a992c",
   "metadata": {},
   "source": [
    "## Make Predictions on Test Data"
   ]
  },
  {
   "cell_type": "code",
   "execution_count": 37,
   "id": "facb884a",
   "metadata": {},
   "outputs": [],
   "source": [
    "df_test = pd.read_csv('data/test.csv')"
   ]
  },
  {
   "cell_type": "code",
   "execution_count": 38,
   "id": "ea50fffd",
   "metadata": {},
   "outputs": [
    {
     "data": {
      "text/html": [
       "<div>\n",
       "<style scoped>\n",
       "    .dataframe tbody tr th:only-of-type {\n",
       "        vertical-align: middle;\n",
       "    }\n",
       "\n",
       "    .dataframe tbody tr th {\n",
       "        vertical-align: top;\n",
       "    }\n",
       "\n",
       "    .dataframe thead th {\n",
       "        text-align: right;\n",
       "    }\n",
       "</style>\n",
       "<table border=\"1\" class=\"dataframe\">\n",
       "  <thead>\n",
       "    <tr style=\"text-align: right;\">\n",
       "      <th></th>\n",
       "      <th>ClaimNumber</th>\n",
       "      <th>DateTimeOfAccident</th>\n",
       "      <th>DateReported</th>\n",
       "      <th>Age</th>\n",
       "      <th>Gender</th>\n",
       "      <th>MaritalStatus</th>\n",
       "      <th>DependentChildren</th>\n",
       "      <th>DependentsOther</th>\n",
       "      <th>WeeklyWages</th>\n",
       "      <th>PartTimeFullTime</th>\n",
       "      <th>HoursWorkedPerWeek</th>\n",
       "      <th>DaysWorkedPerWeek</th>\n",
       "      <th>ClaimDescription</th>\n",
       "      <th>InitialIncurredCalimsCost</th>\n",
       "    </tr>\n",
       "  </thead>\n",
       "  <tbody>\n",
       "    <tr>\n",
       "      <th>0</th>\n",
       "      <td>WC8145235</td>\n",
       "      <td>2002-04-02T10:00:00Z</td>\n",
       "      <td>2002-05-07T00:00:00Z</td>\n",
       "      <td>26</td>\n",
       "      <td>M</td>\n",
       "      <td>S</td>\n",
       "      <td>1</td>\n",
       "      <td>0</td>\n",
       "      <td>600.18</td>\n",
       "      <td>F</td>\n",
       "      <td>40.0</td>\n",
       "      <td>5</td>\n",
       "      <td>CAUGHT RIGHT HAND WITH HAMMER BURN TO RIGHT HAND</td>\n",
       "      <td>5300</td>\n",
       "    </tr>\n",
       "    <tr>\n",
       "      <th>1</th>\n",
       "      <td>WC2005111</td>\n",
       "      <td>1988-04-06T16:00:00Z</td>\n",
       "      <td>1988-04-15T00:00:00Z</td>\n",
       "      <td>31</td>\n",
       "      <td>M</td>\n",
       "      <td>M</td>\n",
       "      <td>0</td>\n",
       "      <td>0</td>\n",
       "      <td>311.54</td>\n",
       "      <td>F</td>\n",
       "      <td>35.0</td>\n",
       "      <td>5</td>\n",
       "      <td>SPRAINED RIGHT ANKLE FRACTURE RIGHT ELBOW</td>\n",
       "      <td>2000</td>\n",
       "    </tr>\n",
       "    <tr>\n",
       "      <th>2</th>\n",
       "      <td>WC6899143</td>\n",
       "      <td>1999-03-08T09:00:00Z</td>\n",
       "      <td>1999-04-04T00:00:00Z</td>\n",
       "      <td>57</td>\n",
       "      <td>M</td>\n",
       "      <td>M</td>\n",
       "      <td>0</td>\n",
       "      <td>0</td>\n",
       "      <td>1000.00</td>\n",
       "      <td>F</td>\n",
       "      <td>38.0</td>\n",
       "      <td>5</td>\n",
       "      <td>STRUCK HAMMER CRUSH INJURY FINGERS HAND</td>\n",
       "      <td>20000</td>\n",
       "    </tr>\n",
       "    <tr>\n",
       "      <th>3</th>\n",
       "      <td>WC5502023</td>\n",
       "      <td>1996-07-26T09:00:00Z</td>\n",
       "      <td>1996-09-04T00:00:00Z</td>\n",
       "      <td>33</td>\n",
       "      <td>M</td>\n",
       "      <td>M</td>\n",
       "      <td>0</td>\n",
       "      <td>0</td>\n",
       "      <td>200.00</td>\n",
       "      <td>F</td>\n",
       "      <td>38.0</td>\n",
       "      <td>5</td>\n",
       "      <td>STRUCK AGAINST AIR HOSE STRUCK GLASS LACERATIO...</td>\n",
       "      <td>350</td>\n",
       "    </tr>\n",
       "    <tr>\n",
       "      <th>4</th>\n",
       "      <td>WC4785156</td>\n",
       "      <td>1994-04-13T14:00:00Z</td>\n",
       "      <td>1994-07-07T00:00:00Z</td>\n",
       "      <td>32</td>\n",
       "      <td>F</td>\n",
       "      <td>M</td>\n",
       "      <td>0</td>\n",
       "      <td>0</td>\n",
       "      <td>359.60</td>\n",
       "      <td>F</td>\n",
       "      <td>40.0</td>\n",
       "      <td>5</td>\n",
       "      <td>FOREIGN BODY IN RIGHT FOOT BRUISED RIGHT BIG TOE</td>\n",
       "      <td>3000</td>\n",
       "    </tr>\n",
       "  </tbody>\n",
       "</table>\n",
       "</div>"
      ],
      "text/plain": [
       "  ClaimNumber    DateTimeOfAccident          DateReported  Age Gender  \\\n",
       "0   WC8145235  2002-04-02T10:00:00Z  2002-05-07T00:00:00Z   26      M   \n",
       "1   WC2005111  1988-04-06T16:00:00Z  1988-04-15T00:00:00Z   31      M   \n",
       "2   WC6899143  1999-03-08T09:00:00Z  1999-04-04T00:00:00Z   57      M   \n",
       "3   WC5502023  1996-07-26T09:00:00Z  1996-09-04T00:00:00Z   33      M   \n",
       "4   WC4785156  1994-04-13T14:00:00Z  1994-07-07T00:00:00Z   32      F   \n",
       "\n",
       "  MaritalStatus  DependentChildren  DependentsOther  WeeklyWages  \\\n",
       "0             S                  1                0       600.18   \n",
       "1             M                  0                0       311.54   \n",
       "2             M                  0                0      1000.00   \n",
       "3             M                  0                0       200.00   \n",
       "4             M                  0                0       359.60   \n",
       "\n",
       "  PartTimeFullTime  HoursWorkedPerWeek  DaysWorkedPerWeek  \\\n",
       "0                F                40.0                  5   \n",
       "1                F                35.0                  5   \n",
       "2                F                38.0                  5   \n",
       "3                F                38.0                  5   \n",
       "4                F                40.0                  5   \n",
       "\n",
       "                                    ClaimDescription  \\\n",
       "0   CAUGHT RIGHT HAND WITH HAMMER BURN TO RIGHT HAND   \n",
       "1          SPRAINED RIGHT ANKLE FRACTURE RIGHT ELBOW   \n",
       "2            STRUCK HAMMER CRUSH INJURY FINGERS HAND   \n",
       "3  STRUCK AGAINST AIR HOSE STRUCK GLASS LACERATIO...   \n",
       "4   FOREIGN BODY IN RIGHT FOOT BRUISED RIGHT BIG TOE   \n",
       "\n",
       "   InitialIncurredCalimsCost  \n",
       "0                       5300  \n",
       "1                       2000  \n",
       "2                      20000  \n",
       "3                        350  \n",
       "4                       3000  "
      ]
     },
     "execution_count": 38,
     "metadata": {},
     "output_type": "execute_result"
    }
   ],
   "source": [
    "df_test.head()"
   ]
  },
  {
   "cell_type": "code",
   "execution_count": 39,
   "id": "e93946e2",
   "metadata": {},
   "outputs": [],
   "source": [
    "X_test = preprocess_data(df_test)"
   ]
  },
  {
   "cell_type": "code",
   "execution_count": 40,
   "id": "581c2f72",
   "metadata": {
    "scrolled": true
   },
   "outputs": [],
   "source": [
    "# fit the model to the full train and validation data before making prediction\n",
    "best_model = final_model.best_estimator_\n",
    "best_model.fit(X, y)\n",
    "y_pred = final_model.predict(X_test)"
   ]
  },
  {
   "cell_type": "code",
   "execution_count": 41,
   "id": "88406a4b",
   "metadata": {},
   "outputs": [],
   "source": [
    "# Export the prediction to csv files\n",
    "df_test['UltimateIncurredClaimCost'] = y_pred\n",
    "df_test[['ClaimNumber', 'UltimateIncurredClaimCost']].to_csv('data/submission.csv', index=False)"
   ]
  }
 ],
 "metadata": {
  "kernelspec": {
   "display_name": "Python 3",
   "language": "python",
   "name": "python3"
  },
  "language_info": {
   "codemirror_mode": {
    "name": "ipython",
    "version": 3
   },
   "file_extension": ".py",
   "mimetype": "text/x-python",
   "name": "python",
   "nbconvert_exporter": "python",
   "pygments_lexer": "ipython3",
   "version": "3.9.5"
  }
 },
 "nbformat": 4,
 "nbformat_minor": 5
}
